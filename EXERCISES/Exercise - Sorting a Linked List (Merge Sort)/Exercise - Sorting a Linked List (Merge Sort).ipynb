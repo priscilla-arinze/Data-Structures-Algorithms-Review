{
 "cells": [
  {
   "cell_type": "markdown",
   "metadata": {},
   "source": [
    "# Exercise - Sorting a Linked List (Merge Sort)"
   ]
  },
  {
   "cell_type": "code",
   "execution_count": 4,
   "metadata": {},
   "outputs": [],
   "source": [
    "from DS_LinkedList import LinkedList"
   ]
  },
  {
   "cell_type": "markdown",
   "metadata": {},
   "source": [
    "Testing import:"
   ]
  },
  {
   "cell_type": "code",
   "execution_count": 2,
   "metadata": {},
   "outputs": [],
   "source": [
    "l = LinkedList()\n",
    "l.append_item(10)\n",
    "l.prepend_item(5)"
   ]
  },
  {
   "cell_type": "code",
   "execution_count": 3,
   "metadata": {},
   "outputs": [
    {
     "data": {
      "text/plain": [
       "[Head: 5]--> [Tail: 10]"
      ]
     },
     "execution_count": 3,
     "metadata": {},
     "output_type": "execute_result"
    }
   ],
   "source": [
    "l"
   ]
  },
  {
   "cell_type": "markdown",
   "metadata": {},
   "source": [
    "### Merge Sort\n",
    "\n",
    "Sorts linked list in ascending order; returns sorted linked list\n",
    "\n",
    "1. DIVIDE -- Find the midpoint of the list & divide into sublists, until 1 element remains in each sublist\n",
    "2. CONQUER  -- Recursively sort the sublists created in previous step\n",
    "3. COMBINE -- Merge the sorted sublists created in previous step"
   ]
  },
  {
   "cell_type": "code",
   "execution_count": null,
   "metadata": {},
   "outputs": [],
   "source": [
    "## MAIN FUNCTION\n",
    "## O(log n) [split()] * O(n) [merge()] === overall O(n log n) time; PYTHON EXCEPTION w/ split_slicing(): overall O(kn log n)\n",
    "def merge_sort(linked_list):\n",
    "    # If main list is less than or equal to one OR divded sublist is down to one element:\n",
    "    if linked_list.size() <= 1:\n",
    "        return linked_list\n",
    "    \n",
    "    elif linked_list.head is None:\n",
    "        return linked_list\n",
    "\n",
    "\n",
    "    left_half, right_half = split_iterative(linked_list) # O(log n)\n",
    "    #left_half, right_half = split_splicing(list) # O(k)\n",
    "\n",
    "    # RECURSION\n",
    "    left_sorted = merge_sort(left_half)\n",
    "    right_sorted = merge_sort(right_half)\n",
    "\n",
    "    # Sorts & combines lists\n",
    "    return merge(left_sorted, right_sorted) #O(n)\n",
    "\n",
    "\n",
    "\n",
    "def split(linked_list):\n",
    "    if linked_list == None or linked_list.head == None:\n",
    "        left_half = linked_list\n",
    "        right_half = None\n",
    "\n",
    "        return left_half, right_half\n",
    "    \n",
    "    # Non-empty linked lists\n",
    "    else:\n",
    "        size = linked_list.size()\n",
    "        midpoint = size // 2\n",
    "\n",
    "        midpoint_node = linked_list.get_node_at_index(midpoint - 1) # -1 since midpoint value is calcluated with size(); need actual index #\n",
    "\n",
    "        left_half = linked_list # entire linked list\n",
    "        right_half = LinkedList() # new linked list object\n",
    "        right_half.head = midpoint_node.next_node # all the elements after the midpoint node\n",
    "        midpoint_node.next_node = None\n",
    "\n",
    "## Divide the unsorted list at midpoint into sublists, returns two sublists, left (for left_half) & right (for right_half)\n",
    "## O(k log n) time\n",
    "def split_slicing(list):\n",
    "    midpoint = len(list) // 2\n",
    "\n",
    "    ## PYTHON BIG-O EXCEPTION: slicing takes O(k), where k is number of elements needing to be sliced (more expensive)\n",
    "    left = list[:midpoint]\n",
    "    right = list[midpoint:]\n",
    "\n",
    "    return left, right\n",
    "\n",
    "## Same as above, but O(log n) time\n",
    "def split_iterative(list):\n",
    "    index = 0 # O(1)\n",
    "    last_element_index = len(list) - 1 # O(1)\n",
    "\n",
    "    left = []\n",
    "    right = []\n",
    "\n",
    "    ## Find middle elemnt with floor division (//) : rounds down to nearest whole number\n",
    "    midpoint = len(list) // 2  \n",
    "\n",
    "    # Will keep repeating loop and \"discarding\" halves until the first element is greater than the last element if & when found\n",
    "    # Otherwise, will return None\n",
    "    while index <= last_element_index:\n",
    "        if index < midpoint:\n",
    "            left.append(list[index])\n",
    "        else:\n",
    "            right.append(list[index])\n",
    "\n",
    "        index += 1\n",
    "    \n",
    "    return left, right\n",
    "\n",
    "\n",
    "\n",
    "## Combines/merges two lists, sorting them in the process; returns a merged, sorted list\n",
    "## O(n) time\n",
    "def merge(left, right):\n",
    "    sorted_ls = []\n",
    "\n",
    "    index_left = 0\n",
    "    index_right = 0\n",
    "\n",
    "    # Swapping loop; Keep executing loop until you reach the end of both lists (or the shortest list)\n",
    "    while index_left < len(left) and index_right < len(right):\n",
    "        if left[index_left] < right[index_right]:\n",
    "            sorted_ls.append(left[index_left])\n",
    "            index_left += 1\n",
    "        else:\n",
    "            sorted_ls.append(right[index_right])\n",
    "            index_right += 1\n",
    "\n",
    "    # Assuming LEFT list is longer than right list, then append the remaining left list elements, startting from index_left\n",
    "    while index_left < len(left):\n",
    "        sorted_ls.append(left[index_left]) # left off from index_left value from previous while loop\n",
    "        index_left += 1\n",
    "\n",
    "    # Assuming RIGHT list is longer than left list, then append the remaining right list elements, startting from index_right\n",
    "    while index_right < len(right):\n",
    "        sorted_ls.append(right[index_right]) # left off from index_left value from previous while loop\n",
    "        index_right += 1\n",
    "\n",
    "\n",
    "    return sorted_ls\n",
    "\n",
    "## Makes sure that list is actually sorted correctly; return boolean\n",
    "def verify_sorted(list):\n",
    "    ls_length = len(list)\n",
    "\n",
    "    if ls_length == 0 or ls_length == 1:\n",
    "        return True\n",
    "    \n",
    "    # RECURSION; will work with a sublist of a sublist until it reaches a length of 0 or 1 (see screenshot for visual recursion explanation)\n",
    "    return list[0] <= list[1] and verify_sorted(list[1:])\n"
   ]
  }
 ],
 "metadata": {
  "kernelspec": {
   "display_name": "Python 3.9.10 ('base')",
   "language": "python",
   "name": "python3"
  },
  "language_info": {
   "codemirror_mode": {
    "name": "ipython",
    "version": 3
   },
   "file_extension": ".py",
   "mimetype": "text/x-python",
   "name": "python",
   "nbconvert_exporter": "python",
   "pygments_lexer": "ipython3",
   "version": "3.9.10"
  },
  "orig_nbformat": 4,
  "vscode": {
   "interpreter": {
    "hash": "3b806cc711b465e66e8252dff191d8681f8b41038e9cbc25fa942edafd26a2d7"
   }
  }
 },
 "nbformat": 4,
 "nbformat_minor": 2
}
