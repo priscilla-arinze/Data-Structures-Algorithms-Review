{
 "cells": [
  {
   "cell_type": "markdown",
   "metadata": {},
   "source": [
    "# Recursion - Reverse String"
   ]
  },
  {
   "cell_type": "markdown",
   "metadata": {},
   "source": [
    "### Iterative Approach"
   ]
  },
  {
   "cell_type": "code",
   "execution_count": 9,
   "metadata": {},
   "outputs": [],
   "source": [
    "def iterative_reverse_string(string):\n",
    "    if len(string) <= 1:\n",
    "        return string\n",
    "\n",
    "    reversed_index = len(string) - 1\n",
    "    reversed_string = \"\"\n",
    "\n",
    "    while reversed_index >= 0:\n",
    "        reversed_string += string[reversed_index]\n",
    "        \n",
    "        reversed_index -= 1\n",
    "\n",
    "    return reversed_string"
   ]
  },
  {
   "cell_type": "code",
   "execution_count": 14,
   "metadata": {},
   "outputs": [
    {
     "data": {
      "text/plain": [
       "'tramlaw'"
      ]
     },
     "execution_count": 14,
     "metadata": {},
     "output_type": "execute_result"
    }
   ],
   "source": [
    "iterative_reverse_string(\"walmart\")"
   ]
  },
  {
   "cell_type": "markdown",
   "metadata": {},
   "source": [
    "### Recursive Approach"
   ]
  },
  {
   "cell_type": "code",
   "execution_count": 16,
   "metadata": {},
   "outputs": [],
   "source": [
    "def recursive_reverse_string(string):\n",
    "    if len(string) < 1:\n",
    "        return string\n",
    "\n",
    "    return recursive_reverse_string(string[1:]) + string[0]"
   ]
  },
  {
   "cell_type": "code",
   "execution_count": 17,
   "metadata": {},
   "outputs": [
    {
     "data": {
      "text/plain": [
       "'tramlaw'"
      ]
     },
     "execution_count": 17,
     "metadata": {},
     "output_type": "execute_result"
    }
   ],
   "source": [
    "recursive_reverse_string(\"walmart\")"
   ]
  },
  {
   "cell_type": "markdown",
   "metadata": {},
   "source": [
    "*Recursive logic*:\n",
    "\n",
    "`recursive_reverse_string`(\"almart\") + \"w\" ---> done 7th/last [\"tramlaw\"] __RETURN__\n",
    "\n",
    "`recursive_reverse_string`(\"lmart\") + \"a\" ---> done 6th [\"tramla\"]\n",
    "\n",
    "`recursive_reverse_string`(\"mart\") + \"l\" ---> done 5th [\"traml\"]\n",
    "\n",
    "`recursive_reverse_string`(\"art\") + \"m\" ---> done 4th [\"tram\"]\n",
    "\n",
    "`recursive_reverse_string`(\"rt\") + \"a\" ---> done 3rd [\"tra\"]\n",
    "\n",
    "`recursive_reverse_string`(\"t\") + \"r\" ---> done 2nd [\"tr\"]\n",
    "\n",
    "`recursive_reverse_string`(\"\") + \"t\" ---> STOPPING CONDITION; done 1st [\"t\"]"
   ]
  }
 ],
 "metadata": {
  "kernelspec": {
   "display_name": "Python 3.9.10 ('base')",
   "language": "python",
   "name": "python3"
  },
  "language_info": {
   "codemirror_mode": {
    "name": "ipython",
    "version": 3
   },
   "file_extension": ".py",
   "mimetype": "text/x-python",
   "name": "python",
   "nbconvert_exporter": "python",
   "pygments_lexer": "ipython3",
   "version": "3.9.10"
  },
  "orig_nbformat": 4,
  "vscode": {
   "interpreter": {
    "hash": "3b806cc711b465e66e8252dff191d8681f8b41038e9cbc25fa942edafd26a2d7"
   }
  }
 },
 "nbformat": 4,
 "nbformat_minor": 2
}
