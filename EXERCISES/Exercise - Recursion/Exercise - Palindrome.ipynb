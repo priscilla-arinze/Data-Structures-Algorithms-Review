{
 "cells": [
  {
   "cell_type": "markdown",
   "metadata": {},
   "source": [
    "# Recursion - Palindrome\n",
    "\n",
    "\"kayak\" spelled forward === \"kayak\" spelled backward ---> __PALINDROME__"
   ]
  },
  {
   "cell_type": "markdown",
   "metadata": {},
   "source": [
    "### Iterative Approach 1"
   ]
  },
  {
   "cell_type": "code",
   "execution_count": 3,
   "metadata": {},
   "outputs": [],
   "source": [
    "def iterative_palindrome1(string):\n",
    "    \n",
    "    if len(string) <= 1:\n",
    "        return True\n",
    "\n",
    "    string = string.lower()\n",
    "\n",
    "    index_forward = 0\n",
    "    index_backward = len(string) - 1\n",
    "\n",
    "    palindrome_match = False\n",
    "\n",
    "\n",
    "    while index_forward <= index_backward:\n",
    "        if string[index_forward] == string[index_backward]:\n",
    "            palindrome_match = True\n",
    "        else:\n",
    "            palindrome_match = False\n",
    "\n",
    "        index_forward += 1\n",
    "        index_backward -= 1\n",
    "    \n",
    "\n",
    "    return palindrome_match"
   ]
  },
  {
   "cell_type": "code",
   "execution_count": 4,
   "metadata": {},
   "outputs": [
    {
     "data": {
      "text/plain": [
       "True"
      ]
     },
     "execution_count": 4,
     "metadata": {},
     "output_type": "execute_result"
    }
   ],
   "source": [
    "iterative_palindrome1(\"kayak\")"
   ]
  },
  {
   "cell_type": "code",
   "execution_count": 6,
   "metadata": {},
   "outputs": [
    {
     "data": {
      "text/plain": [
       "True"
      ]
     },
     "execution_count": 6,
     "metadata": {},
     "output_type": "execute_result"
    }
   ],
   "source": [
    "iterative_palindrome1(\"racecar\")"
   ]
  },
  {
   "cell_type": "code",
   "execution_count": 5,
   "metadata": {},
   "outputs": [
    {
     "data": {
      "text/plain": [
       "False"
      ]
     },
     "execution_count": 5,
     "metadata": {},
     "output_type": "execute_result"
    }
   ],
   "source": [
    "iterative_palindrome1(\"ohio\")"
   ]
  },
  {
   "cell_type": "markdown",
   "metadata": {},
   "source": [
    "### Iterative Approach 2 (Reverse String Comparison)"
   ]
  },
  {
   "cell_type": "code",
   "execution_count": 7,
   "metadata": {},
   "outputs": [],
   "source": [
    "def iterative_palindrome2(string):\n",
    "    \n",
    "    if len(string) <= 1:\n",
    "        return string\n",
    "    \n",
    "    string = string.lower()\n",
    "\n",
    "    reversed_index = len(string) - 1\n",
    "    reversed_string = \"\"\n",
    "\n",
    "\n",
    "    while reversed_index >= 0:\n",
    "        reversed_string += string[reversed_index]\n",
    "        \n",
    "        reversed_index -= 1\n",
    "\n",
    "\n",
    "    if string == reversed_string:\n",
    "        return True\n",
    "    else:\n",
    "        return False"
   ]
  },
  {
   "cell_type": "code",
   "execution_count": 8,
   "metadata": {},
   "outputs": [
    {
     "data": {
      "text/plain": [
       "True"
      ]
     },
     "execution_count": 8,
     "metadata": {},
     "output_type": "execute_result"
    }
   ],
   "source": [
    "iterative_palindrome2(\"kayak\")"
   ]
  },
  {
   "cell_type": "code",
   "execution_count": 9,
   "metadata": {},
   "outputs": [
    {
     "data": {
      "text/plain": [
       "True"
      ]
     },
     "execution_count": 9,
     "metadata": {},
     "output_type": "execute_result"
    }
   ],
   "source": [
    "iterative_palindrome2(\"racecar\")"
   ]
  },
  {
   "cell_type": "code",
   "execution_count": 10,
   "metadata": {},
   "outputs": [
    {
     "data": {
      "text/plain": [
       "False"
      ]
     },
     "execution_count": 10,
     "metadata": {},
     "output_type": "execute_result"
    }
   ],
   "source": [
    "iterative_palindrome2(\"ohio\")"
   ]
  },
  {
   "cell_type": "markdown",
   "metadata": {},
   "source": [
    "### Recursive Approach 1"
   ]
  },
  {
   "cell_type": "code",
   "execution_count": 38,
   "metadata": {},
   "outputs": [],
   "source": [
    "def recursive_palindrome1(string):\n",
    "    if len(string) <= 1:\n",
    "        return True\n",
    "    \n",
    "    string = string.lower()\n",
    "    ending_index = len(string) - 1\n",
    "\n",
    "    if string[0] == string[-1]:\n",
    "        return recursive_palindrome1(string[1:ending_index])\n",
    "    \n",
    "    return False"
   ]
  },
  {
   "cell_type": "code",
   "execution_count": 37,
   "metadata": {},
   "outputs": [
    {
     "data": {
      "text/plain": [
       "True"
      ]
     },
     "execution_count": 37,
     "metadata": {},
     "output_type": "execute_result"
    }
   ],
   "source": [
    "recursive_palindrome1(\"kayak\")"
   ]
  },
  {
   "cell_type": "code",
   "execution_count": 39,
   "metadata": {},
   "outputs": [
    {
     "data": {
      "text/plain": [
       "True"
      ]
     },
     "execution_count": 39,
     "metadata": {},
     "output_type": "execute_result"
    }
   ],
   "source": [
    "recursive_palindrome1(\"racecar\")"
   ]
  },
  {
   "cell_type": "code",
   "execution_count": 40,
   "metadata": {},
   "outputs": [
    {
     "data": {
      "text/plain": [
       "False"
      ]
     },
     "execution_count": 40,
     "metadata": {},
     "output_type": "execute_result"
    }
   ],
   "source": [
    "recursive_palindrome1(\"ohio\")"
   ]
  },
  {
   "cell_type": "markdown",
   "metadata": {},
   "source": [
    "### Recursive Approach 2 (Reverse String Comparison)"
   ]
  },
  {
   "cell_type": "code",
   "execution_count": 24,
   "metadata": {},
   "outputs": [],
   "source": [
    "def recursive_reverse_string(string):\n",
    "    if len(string) < 1:\n",
    "        return True\n",
    "\n",
    "    return recursive_reverse_string(string[1:]) + string[0]\n",
    "\n",
    "\n",
    "def recursive_palindrome2(string):\n",
    "    if len(string) < 1:\n",
    "        return string\n",
    "    \n",
    "    string = string.lower()\n",
    "\n",
    "\n",
    "    reversed_string = recursive_reverse_string(string)\n",
    "\n",
    "\n",
    "    if string == reversed_string:\n",
    "        return True\n",
    "    else:\n",
    "        return False\n",
    "        \n",
    "    "
   ]
  },
  {
   "cell_type": "code",
   "execution_count": 25,
   "metadata": {},
   "outputs": [
    {
     "data": {
      "text/plain": [
       "True"
      ]
     },
     "execution_count": 25,
     "metadata": {},
     "output_type": "execute_result"
    }
   ],
   "source": [
    "recursive_palindrome2(\"kayak\")"
   ]
  },
  {
   "cell_type": "code",
   "execution_count": 26,
   "metadata": {},
   "outputs": [
    {
     "data": {
      "text/plain": [
       "True"
      ]
     },
     "execution_count": 26,
     "metadata": {},
     "output_type": "execute_result"
    }
   ],
   "source": [
    "recursive_palindrome2(\"racecar\")"
   ]
  },
  {
   "cell_type": "code",
   "execution_count": 27,
   "metadata": {},
   "outputs": [
    {
     "data": {
      "text/plain": [
       "False"
      ]
     },
     "execution_count": 27,
     "metadata": {},
     "output_type": "execute_result"
    }
   ],
   "source": [
    "recursive_palindrome2(\"ohio\")"
   ]
  }
 ],
 "metadata": {
  "kernelspec": {
   "display_name": "Python 3.9.10 ('base')",
   "language": "python",
   "name": "python3"
  },
  "language_info": {
   "codemirror_mode": {
    "name": "ipython",
    "version": 3
   },
   "file_extension": ".py",
   "mimetype": "text/x-python",
   "name": "python",
   "nbconvert_exporter": "python",
   "pygments_lexer": "ipython3",
   "version": "3.9.10"
  },
  "orig_nbformat": 4,
  "vscode": {
   "interpreter": {
    "hash": "3b806cc711b465e66e8252dff191d8681f8b41038e9cbc25fa942edafd26a2d7"
   }
  }
 },
 "nbformat": 4,
 "nbformat_minor": 2
}
