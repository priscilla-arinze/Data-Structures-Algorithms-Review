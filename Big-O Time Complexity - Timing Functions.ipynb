{
 "cells": [
  {
   "cell_type": "code",
   "execution_count": 18,
   "metadata": {},
   "outputs": [],
   "source": [
    "def func1(n):\n",
    "    if n % 2 != 0:\n",
    "        return n + n\n",
    "    else:\n",
    "        return n * n\n",
    "\n",
    "\n",
    "def func2(n):\n",
    "    if n % 2 != 0: return n + n\n",
    "    else: return n * n\n",
    "\n",
    "\n",
    "def func3(n):\n",
    "    return (n + n) if n % 2 != 0 else (n * n)"
   ]
  },
  {
   "cell_type": "code",
   "execution_count": 36,
   "metadata": {},
   "outputs": [],
   "source": [
    "import time\n",
    "import timeit"
   ]
  },
  {
   "cell_type": "code",
   "execution_count": 60,
   "metadata": {},
   "outputs": [
    {
     "name": "stdout",
     "output_type": "stream",
     "text": [
      "Time module: 0.0014574527740478516\n",
      "Time performance counter module: 0.0006511000001410139\n",
      "Time module, specific CPU process: 0.0\n",
      "Timeit module: 0.6727688999999373\n"
     ]
    }
   ],
   "source": [
    "start_a = time.time()\n",
    "start_a2 = time.perf_counter()\n",
    "start_a3 = time.process_time()\n",
    "func1(2000)\n",
    "end_a = time.time()\n",
    "end_a2 = time.perf_counter()\n",
    "end_a3 = time.process_time()\n",
    "print(\"Time module:\", end_a - start_a)\n",
    "print(\"Time performance counter module:\", end_a2 - start_a2)\n",
    "print(\"Time module, specific CPU process:\", end_a3 - start_a3)\n",
    "print(\"Timeit module:\", timeit.timeit(lambda: func1(2000))) # executing a million times"
   ]
  },
  {
   "cell_type": "code",
   "execution_count": 61,
   "metadata": {},
   "outputs": [
    {
     "name": "stdout",
     "output_type": "stream",
     "text": [
      "Time module: 0.0\n",
      "Time performance counter module: 0.0003312999997433508\n",
      "Time module, specific CPU process: 0.0\n",
      "Timeit module: 0.7840783999999985\n"
     ]
    }
   ],
   "source": [
    "start_b = time.time()\n",
    "start_b2 = time.perf_counter()\n",
    "start_b3 = time.process_time()\n",
    "func2(2000)\n",
    "end_b = time.time()\n",
    "end_b2 = time.perf_counter()\n",
    "end_b3 = time.process_time()\n",
    "print(\"Time module:\", end_b - start_b)\n",
    "print(\"Time performance counter module:\", end_b2 - start_b2)\n",
    "print(\"Time module, specific CPU process:\", end_b3 - start_b3)\n",
    "print(\"Timeit module:\", timeit.timeit(lambda: func2(2000))) # executing a million times"
   ]
  },
  {
   "cell_type": "code",
   "execution_count": 62,
   "metadata": {},
   "outputs": [
    {
     "name": "stdout",
     "output_type": "stream",
     "text": [
      "Time module: 0.0009932518005371094\n",
      "Time performance counter module: 0.0005430000001069857\n",
      "Time module, specific CPU process: 0.0\n",
      "Timeit module: 0.6583038000007946\n"
     ]
    }
   ],
   "source": [
    "start_c = time.time()\n",
    "start_c2 = time.perf_counter()\n",
    "start_c3 = time.process_time()\n",
    "func3(2000)\n",
    "end_c = time.time()\n",
    "end_c2 = time.perf_counter()\n",
    "end_c3 = time.process_time()\n",
    "print(\"Time module:\", end_c - start_c)\n",
    "print(\"Time performance counter module:\", end_c2 - start_c2)\n",
    "print(\"Time module, specific CPU process:\", end_c3 - start_c3)\n",
    "print(\"Timeit module:\", timeit.timeit(lambda: func3(2000))) # executing a million times"
   ]
  }
 ],
 "metadata": {
  "kernelspec": {
   "display_name": "Python 3.9.10 ('base')",
   "language": "python",
   "name": "python3"
  },
  "language_info": {
   "codemirror_mode": {
    "name": "ipython",
    "version": 3
   },
   "file_extension": ".py",
   "mimetype": "text/x-python",
   "name": "python",
   "nbconvert_exporter": "python",
   "pygments_lexer": "ipython3",
   "version": "3.9.10"
  },
  "orig_nbformat": 4,
  "vscode": {
   "interpreter": {
    "hash": "3b806cc711b465e66e8252dff191d8681f8b41038e9cbc25fa942edafd26a2d7"
   }
  }
 },
 "nbformat": 4,
 "nbformat_minor": 2
}
