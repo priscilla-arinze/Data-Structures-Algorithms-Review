{
 "cells": [
  {
   "cell_type": "markdown",
   "metadata": {},
   "source": [
    "# Coding Problem - Anagrams\n",
    "\n",
    "__Description: Given two strings, check to see if they are anagrams. An anagram is when the two strings can be written using the exact same letters (so you can just rearrange the letetrs to get a different phrase or word). STRINGS MUST BE THE SAME LENGTH__\n",
    "\n",
    "Example: \"dog\" is an anagram of \"god\", \"set\" is an anagram of \"west\", etc."
   ]
  },
  {
   "cell_type": "markdown",
   "metadata": {},
   "source": [
    "Very basic solution (strings must be the same length):"
   ]
  },
  {
   "cell_type": "code",
   "execution_count": 6,
   "metadata": {},
   "outputs": [],
   "source": [
    "def anagram(str1, str2):\n",
    "\n",
    "    # Remove all whitespace and convert all letters to lowercase\n",
    "    str1 = str1.replace(' ', '').lower()\n",
    "    str2 = str2.replace(' ', '').lower()\n",
    "\n",
    "    # Sort both strings & compare\n",
    "    return sorted(str1) == sorted(str2)"
   ]
  },
  {
   "cell_type": "code",
   "execution_count": 2,
   "metadata": {},
   "outputs": [
    {
     "data": {
      "text/plain": [
       "True"
      ]
     },
     "execution_count": 2,
     "metadata": {},
     "output_type": "execute_result"
    }
   ],
   "source": [
    "anagram('dog', \"God\")"
   ]
  },
  {
   "cell_type": "code",
   "execution_count": 7,
   "metadata": {},
   "outputs": [
    {
     "data": {
      "text/plain": [
       "True"
      ]
     },
     "execution_count": 7,
     "metadata": {},
     "output_type": "execute_result"
    }
   ],
   "source": [
    "anagram('clint eastwood', 'old west action')"
   ]
  },
  {
   "cell_type": "code",
   "execution_count": 3,
   "metadata": {},
   "outputs": [
    {
     "data": {
      "text/plain": [
       "False"
      ]
     },
     "execution_count": 3,
     "metadata": {},
     "output_type": "execute_result"
    }
   ],
   "source": [
    "## DIFFERENT STRING LENGTH ISSUE: SEE SUB-STRING ANAGRAMS BELOW\n",
    "\n",
    "anagram('set', \"west\")"
   ]
  },
  {
   "cell_type": "markdown",
   "metadata": {},
   "source": [
    "Different (a little less pythonic) implementation:"
   ]
  },
  {
   "cell_type": "code",
   "execution_count": 18,
   "metadata": {},
   "outputs": [],
   "source": [
    "def anagram2(str1, str2):\n",
    "    str1 = str1.replace(' ', '').lower()\n",
    "    str2 = str2.replace(' ', '').lower()\n",
    "    \n",
    "    if len(str1) != len(str2):\n",
    "        return False\n",
    "    else: \n",
    "        # use any one of the strings, doesn't matter since it has to be the same length in this implementation\n",
    "        for character in str1:\n",
    "            if (character in str1 and character in str2) == False:\n",
    "                return False\n",
    "        return True"
   ]
  },
  {
   "cell_type": "code",
   "execution_count": 14,
   "metadata": {},
   "outputs": [
    {
     "data": {
      "text/plain": [
       "False"
      ]
     },
     "execution_count": 14,
     "metadata": {},
     "output_type": "execute_result"
    }
   ],
   "source": [
    "anagram2('sack', \"pack\")"
   ]
  },
  {
   "cell_type": "code",
   "execution_count": 15,
   "metadata": {},
   "outputs": [
    {
     "data": {
      "text/plain": [
       "True"
      ]
     },
     "execution_count": 15,
     "metadata": {},
     "output_type": "execute_result"
    }
   ],
   "source": [
    "anagram2('god', \"dog\")"
   ]
  },
  {
   "cell_type": "code",
   "execution_count": 29,
   "metadata": {},
   "outputs": [
    {
     "data": {
      "text/plain": [
       "True"
      ]
     },
     "execution_count": 29,
     "metadata": {},
     "output_type": "execute_result"
    }
   ],
   "source": [
    "# ISSUE WITH DUPLICATE LETTERS\n",
    "anagram2('http', \"pthh\")"
   ]
  },
  {
   "cell_type": "markdown",
   "metadata": {},
   "source": [
    "__SOLUTION:__ Better implementation based on letter count (using dictionaries)\n",
    "\n",
    "*To account for duplicate characters in each string*"
   ]
  },
  {
   "cell_type": "code",
   "execution_count": 21,
   "metadata": {},
   "outputs": [],
   "source": [
    "def anagram3(str1, str2):\n",
    "    str1 = str1.replace(' ', '').lower()\n",
    "    str2 = str2.replace(' ', '').lower()\n",
    "    \n",
    "    if len(str1) != len(str2):\n",
    "        return False\n",
    "\n",
    "\n",
    "    ### DICTIONARY FREQUENCY COUNTS\n",
    "    char_count = {}\n",
    "\n",
    "    # Iterate over all characters in first string & append to dictionary with frequency count\n",
    "    for character in str1:\n",
    "        if character in char_count:\n",
    "            char_count[character] += 1\n",
    "        else:\n",
    "            char_count[character] = 1\n",
    "\n",
    "    # Iterate over all characters in second string & do the reverse of above with frequency count if chracter is in string\n",
    "    for character in str2:\n",
    "        if character in char_count:\n",
    "            char_count[character] -= 1\n",
    "        else:\n",
    "            char_count[character] = 1\n",
    "\n",
    "\n",
    "\n",
    "    # Iterate over dictionary frequency count values & make sure they are all 0 \n",
    "    # (add character counts in string 1 & subtracting character counts in string 2, should be 0 if the same)\n",
    "    for count in char_count:\n",
    "        if char_count[count] != 0:\n",
    "            return False\n",
    "    \n",
    "    return True  # If above loop doesn't evaluate any falses\n"
   ]
  },
  {
   "cell_type": "code",
   "execution_count": 22,
   "metadata": {},
   "outputs": [
    {
     "data": {
      "text/plain": [
       "False"
      ]
     },
     "execution_count": 22,
     "metadata": {},
     "output_type": "execute_result"
    }
   ],
   "source": [
    "anagram3('sack', \"pack\")"
   ]
  },
  {
   "cell_type": "code",
   "execution_count": 23,
   "metadata": {},
   "outputs": [
    {
     "data": {
      "text/plain": [
       "True"
      ]
     },
     "execution_count": 23,
     "metadata": {},
     "output_type": "execute_result"
    }
   ],
   "source": [
    "anagram3('app', \"pap\")"
   ]
  },
  {
   "cell_type": "code",
   "execution_count": 24,
   "metadata": {},
   "outputs": [
    {
     "data": {
      "text/plain": [
       "True"
      ]
     },
     "execution_count": 24,
     "metadata": {},
     "output_type": "execute_result"
    }
   ],
   "source": [
    "anagram3('god', \"dog\")"
   ]
  },
  {
   "cell_type": "code",
   "execution_count": 25,
   "metadata": {},
   "outputs": [
    {
     "data": {
      "text/plain": [
       "True"
      ]
     },
     "execution_count": 25,
     "metadata": {},
     "output_type": "execute_result"
    }
   ],
   "source": [
    "anagram3('Clint Eastwood', \"old WEST action\")"
   ]
  },
  {
   "cell_type": "code",
   "execution_count": 30,
   "metadata": {},
   "outputs": [
    {
     "data": {
      "text/plain": [
       "False"
      ]
     },
     "execution_count": 30,
     "metadata": {},
     "output_type": "execute_result"
    }
   ],
   "source": [
    "anagram3('http', 'pthh')"
   ]
  },
  {
   "cell_type": "markdown",
   "metadata": {},
   "source": [
    "<hr>\n",
    "\n",
    "## Sub-String Anagrams:\n",
    "\n",
    "__Same as above but strings can be different lengths & doesn't have to use all letters__\n",
    "\n",
    "*Issue with duplicate letters*"
   ]
  },
  {
   "cell_type": "code",
   "execution_count": 37,
   "metadata": {},
   "outputs": [],
   "source": [
    "def substring_anagram(str1, str2):\n",
    "\n",
    "    # Remove all whitespace and convert all letters to lowercase\n",
    "    str1 = str1.replace(' ', '').lower()\n",
    "    str2 = str2.replace(' ', '').lower()\n",
    "\n",
    "    # If string is same length, simply return simple solution as above\n",
    "    if len(str1) == len(str2):\n",
    "        return sorted(str1) == sorted(str2)\n",
    "    else:\n",
    "        ## Hack solution to deal with duplicate letters (converting string characters to a set)\n",
    "        # The length of the shortest string should be the same as the length of a set\n",
    "        if min(len(str1), len(str2)) != len(set(min(str1, str2, key=len))):\n",
    "            return False\n",
    "\n",
    "        ## all(): make sure that ALL characters are in both strings\n",
    "        # comprehension: all( [IF STATEMENT RESULT] [FOR LOOP (iterating over chracters in minimum length string)] )\n",
    "        return all(character in str1 and character in str2 for character in min(str1, str2, key=len))"
   ]
  },
  {
   "cell_type": "code",
   "execution_count": 35,
   "metadata": {},
   "outputs": [
    {
     "data": {
      "text/plain": [
       "True"
      ]
     },
     "execution_count": 35,
     "metadata": {},
     "output_type": "execute_result"
    }
   ],
   "source": [
    "substring_anagram('apple', \"lap\")"
   ]
  },
  {
   "cell_type": "code",
   "execution_count": 36,
   "metadata": {},
   "outputs": [
    {
     "data": {
      "text/plain": [
       "False"
      ]
     },
     "execution_count": 36,
     "metadata": {},
     "output_type": "execute_result"
    }
   ],
   "source": [
    "# DUPLICATE LETTERS (fixed-ish)\n",
    "substring_anagram('aple', \"lpp\")"
   ]
  },
  {
   "cell_type": "code",
   "execution_count": 39,
   "metadata": {},
   "outputs": [
    {
     "data": {
      "text/plain": [
       "False"
      ]
     },
     "execution_count": 39,
     "metadata": {},
     "output_type": "execute_result"
    }
   ],
   "source": [
    "# STILL AN ISSUE WITH DUPLICATE LETTERS\n",
    "substring_anagram('apple', \"apppple\")"
   ]
  },
  {
   "cell_type": "code",
   "execution_count": 33,
   "metadata": {},
   "outputs": [
    {
     "data": {
      "text/plain": [
       "True"
      ]
     },
     "execution_count": 33,
     "metadata": {},
     "output_type": "execute_result"
    }
   ],
   "source": [
    "substring_anagram('set', \"west\")"
   ]
  },
  {
   "cell_type": "code",
   "execution_count": 34,
   "metadata": {},
   "outputs": [
    {
     "data": {
      "text/plain": [
       "True"
      ]
     },
     "execution_count": 34,
     "metadata": {},
     "output_type": "execute_result"
    }
   ],
   "source": [
    "substring_anagram('dog', \"God\")"
   ]
  },
  {
   "cell_type": "code",
   "execution_count": 35,
   "metadata": {},
   "outputs": [
    {
     "data": {
      "text/plain": [
       "False"
      ]
     },
     "execution_count": 35,
     "metadata": {},
     "output_type": "execute_result"
    }
   ],
   "source": [
    "substring_anagram('sack', \"pack\")"
   ]
  },
  {
   "cell_type": "code",
   "execution_count": 36,
   "metadata": {},
   "outputs": [
    {
     "data": {
      "text/plain": [
       "False"
      ]
     },
     "execution_count": 36,
     "metadata": {},
     "output_type": "execute_result"
    }
   ],
   "source": [
    "substring_anagram('play', \"day\")"
   ]
  },
  {
   "cell_type": "code",
   "execution_count": 9,
   "metadata": {},
   "outputs": [
    {
     "data": {
      "text/plain": [
       "True"
      ]
     },
     "execution_count": 9,
     "metadata": {},
     "output_type": "execute_result"
    }
   ],
   "source": [
    "substring_anagram('play', \"pay\")"
   ]
  },
  {
   "cell_type": "code",
   "execution_count": 3,
   "metadata": {},
   "outputs": [
    {
     "data": {
      "text/plain": [
       "True"
      ]
     },
     "execution_count": 3,
     "metadata": {},
     "output_type": "execute_result"
    }
   ],
   "source": [
    "substring_anagram('clint eastwood', 'old west action')"
   ]
  },
  {
   "cell_type": "code",
   "execution_count": 4,
   "metadata": {},
   "outputs": [
    {
     "data": {
      "text/plain": [
       "True"
      ]
     },
     "execution_count": 4,
     "metadata": {},
     "output_type": "execute_result"
    }
   ],
   "source": [
    "substring_anagram('clint eastwood', 'old action')"
   ]
  },
  {
   "cell_type": "markdown",
   "metadata": {},
   "source": [
    "<br>\n",
    "\n",
    "### Brainstorming:"
   ]
  },
  {
   "cell_type": "code",
   "execution_count": 21,
   "metadata": {},
   "outputs": [
    {
     "data": {
      "text/plain": [
       "'lap'"
      ]
     },
     "execution_count": 21,
     "metadata": {},
     "output_type": "execute_result"
    }
   ],
   "source": [
    "x1 = 'apple'\n",
    "x2 = 'lap'\n",
    "\n",
    "'a' in x2\n",
    "\n",
    "min(x1, x2, key=len)"
   ]
  }
 ],
 "metadata": {
  "kernelspec": {
   "display_name": "Python 3.9.10 ('base')",
   "language": "python",
   "name": "python3"
  },
  "language_info": {
   "codemirror_mode": {
    "name": "ipython",
    "version": 3
   },
   "file_extension": ".py",
   "mimetype": "text/x-python",
   "name": "python",
   "nbconvert_exporter": "python",
   "pygments_lexer": "ipython3",
   "version": "3.9.10"
  },
  "orig_nbformat": 4,
  "vscode": {
   "interpreter": {
    "hash": "3b806cc711b465e66e8252dff191d8681f8b41038e9cbc25fa942edafd26a2d7"
   }
  }
 },
 "nbformat": 4,
 "nbformat_minor": 2
}
